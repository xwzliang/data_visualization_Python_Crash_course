{
 "cells": [
  {
   "cell_type": "code",
   "execution_count": 38,
   "metadata": {},
   "outputs": [],
   "source": [
    "import json\n",
    "import pygal_maps_world.maps\n",
    "from pygal.style import RotateStyle, LightColorizedStyle"
   ]
  },
  {
   "cell_type": "code",
   "execution_count": 15,
   "metadata": {
    "scrolled": true
   },
   "outputs": [],
   "source": [
    "from country_codes import get_country_code"
   ]
  },
  {
   "cell_type": "code",
   "execution_count": 24,
   "metadata": {},
   "outputs": [],
   "source": [
    "#Load the data into a list\n",
    "filename = 'population_data.json'\n",
    "with open(filename) as f:\n",
    "    pop_data = json.load(f)"
   ]
  },
  {
   "cell_type": "code",
   "execution_count": 25,
   "metadata": {},
   "outputs": [],
   "source": [
    "#Build a dictionary of population data\n",
    "cc_populations = {}\n",
    "for pop_dict in pop_data:\n",
    "    if pop_dict['Year'] == '2010':\n",
    "        country = pop_dict['Country Name']\n",
    "        population = int(float(pop_dict['Value']))\n",
    "        code = get_country_code(country)\n",
    "        if code:\n",
    "            cc_populations[code] = population"
   ]
  },
  {
   "cell_type": "code",
   "execution_count": 29,
   "metadata": {},
   "outputs": [
    {
     "name": "stdout",
     "output_type": "stream",
     "text": [
      "85 69 2\n"
     ]
    }
   ],
   "source": [
    "#Group the countries into 3 population levels\n",
    "cc_pops_1, cc_pops_2, cc_pops_3 = {}, {}, {}\n",
    "for cc, pop in cc_populations.items():\n",
    "    if pop < 10**7:\n",
    "        cc_pops_1[cc] = pop\n",
    "    elif pop < 10**9:\n",
    "        cc_pops_2[cc] = pop\n",
    "    else:\n",
    "        cc_pops_3[cc] = pop\n",
    "print(len(cc_pops_1), len(cc_pops_2), len(cc_pops_3))"
   ]
  },
  {
   "cell_type": "code",
   "execution_count": 39,
   "metadata": {},
   "outputs": [],
   "source": [
    "wm_style = RotateStyle('#336699', base_style=LightColorizedStyle)\n",
    "wm = pygal_maps_world.maps.World(style=wm_style)\n",
    "wm.title = 'World Population in 2010, by Country'\n",
    "wm.add('0-10m', cc_pops_1)\n",
    "wm.add('10m-1bn', cc_pops_2)\n",
    "wm.add('>1bn', cc_pops_3)\n",
    "\n",
    "wm.render_to_file('world_population.svg')"
   ]
  },
  {
   "cell_type": "code",
   "execution_count": null,
   "metadata": {},
   "outputs": [],
   "source": []
  }
 ],
 "metadata": {
  "kernelspec": {
   "display_name": "Python 3",
   "language": "python",
   "name": "python3"
  },
  "language_info": {
   "codemirror_mode": {
    "name": "ipython",
    "version": 3
   },
   "file_extension": ".py",
   "mimetype": "text/x-python",
   "name": "python",
   "nbconvert_exporter": "python",
   "pygments_lexer": "ipython3",
   "version": "3.7.1"
  }
 },
 "nbformat": 4,
 "nbformat_minor": 2
}
