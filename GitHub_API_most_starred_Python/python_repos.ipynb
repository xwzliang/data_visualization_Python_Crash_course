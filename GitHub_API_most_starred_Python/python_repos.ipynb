{
 "cells": [
  {
   "cell_type": "code",
   "execution_count": 9,
   "metadata": {},
   "outputs": [],
   "source": [
    "import requests\n",
    "import pygal\n",
    "from pygal.style import LightColorizedStyle as LCS, LightenStyle as LS"
   ]
  },
  {
   "cell_type": "code",
   "execution_count": 4,
   "metadata": {},
   "outputs": [
    {
     "name": "stdout",
     "output_type": "stream",
     "text": [
      "Status code:  200\n",
      "Total repositories:  3508196\n"
     ]
    }
   ],
   "source": [
    "#Make an API call and store the response\n",
    "url = 'https://api.github.com/search/repositories?q=language:python&sort=stars'\n",
    "r = requests.get(url)\n",
    "print(\"Status code: \", r.status_code)\n",
    "response_dict = r.json()\n",
    "print(\"Total repositories: \", response_dict['total_count'])"
   ]
  },
  {
   "cell_type": "code",
   "execution_count": 34,
   "metadata": {
    "scrolled": true
   },
   "outputs": [
    {
     "name": "stdout",
     "output_type": "stream",
     "text": [
      "Repositories returned:  30\n"
     ]
    }
   ],
   "source": [
    "#Explore information about the repositories\n",
    "repo_dicts = response_dict['items']\n",
    "print(\"Repositories returned: \", len(repo_dicts))\n",
    "\n",
    "names, plot_dicts = [], []\n",
    "for repo_dict in repo_dicts:\n",
    "    names.append(repo_dict['name'])\n",
    "    if repo_dict['description']:\n",
    "        plot_dict = {\n",
    "            'value': repo_dict['stargazers_count'],\n",
    "            'label': repo_dict['description'],\n",
    "            'xlink': repo_dict['html_url'],\n",
    "        }\n",
    "    else:\n",
    "        plot_dict = {\n",
    "            'value': repo_dict['stargazers_count'],\n",
    "            'xlink': repo_dict['html_url'],\n",
    "        }\n",
    "    plot_dicts.append(plot_dict)"
   ]
  },
  {
   "cell_type": "code",
   "execution_count": 35,
   "metadata": {},
   "outputs": [],
   "source": [
    "#Make visualization\n",
    "my_style = LS('#333366', base_style=LCS)\n",
    "\n",
    "my_config = pygal.Config()\n",
    "my_config.x_label_rotation = -45\n",
    "my_config.show_legend = False\n",
    "my_config.title_font_size = 24\n",
    "my_config.label_font_size = 10\n",
    "my_config.major_label_font_size = 18\n",
    "my_config.truncate_label = 15\n",
    "my_config.show_y_guides = False\n",
    "my_config.width = 1000\n",
    "\n",
    "chart = pygal.Bar(my_config, style=my_style)\n",
    "chart.title = \"Most-Starred Python Projects on Github\"\n",
    "chart.x_labels = names\n",
    "chart.add('', plot_dicts)\n",
    "chart.render_to_file('python_repos.svg')"
   ]
  },
  {
   "cell_type": "code",
   "execution_count": null,
   "metadata": {},
   "outputs": [],
   "source": []
  }
 ],
 "metadata": {
  "kernelspec": {
   "display_name": "Python 3",
   "language": "python",
   "name": "python3"
  },
  "language_info": {
   "codemirror_mode": {
    "name": "ipython",
    "version": 3
   },
   "file_extension": ".py",
   "mimetype": "text/x-python",
   "name": "python",
   "nbconvert_exporter": "python",
   "pygments_lexer": "ipython3",
   "version": "3.7.1"
  }
 },
 "nbformat": 4,
 "nbformat_minor": 2
}
